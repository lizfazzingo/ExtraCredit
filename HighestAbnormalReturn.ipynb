{
 "cells": [
  {
   "cell_type": "code",
   "execution_count": 2,
   "id": "ef9d3cfb",
   "metadata": {},
   "outputs": [
    {
     "name": "stdout",
     "output_type": "stream",
     "text": [
      "[*********************100%***********************]  1 of 1 completed\n",
      "[*********************100%***********************]  1 of 1 completed\n",
      "[*********************100%***********************]  1 of 1 completed\n",
      "[*********************100%***********************]  1 of 1 completed\n",
      "[*********************100%***********************]  1 of 1 completed\n",
      "The stock with the highest Sharpe ratio is MSFT.\n",
      "The month with the highest abnormal return for MSFT is 2021-10-01 00:00:00.\n"
     ]
    }
   ],
   "source": [
    "import pandas as pd\n",
    "import numpy as np\n",
    "import yfinance as yf\n",
    "\n",
    "# Define the ticker symbols and timeframe\n",
    "tickers = ['AAPL', 'MSFT', 'TGT', 'WMT', 'AMZN']\n",
    "start_date = '2020-01-01'\n",
    "end_date = '2021-12-31'\n",
    "\n",
    "# Download the historical data for each ticker\n",
    "dfs = []\n",
    "for ticker in tickers:\n",
    "    data = yf.download(ticker, start=start_date, end=end_date, interval='1mo')\n",
    "    data = data[['Adj Close']]\n",
    "    data = data.rename(columns={'Adj Close': ticker})\n",
    "    dfs.append(data)\n",
    "\n",
    "# Concatenate the individual dataframes into a single dataframe\n",
    "df = pd.concat(dfs, axis=1)\n",
    "\n",
    "# Calculate the monthly returns for each stock\n",
    "returns = df.pct_change()\n",
    "\n",
    "# Calculate the mean and standard deviation of monthly returns for each stock\n",
    "mean_returns = returns.mean()\n",
    "std_returns = returns.std()\n",
    "\n",
    "# Define the risk-free rate\n",
    "risk_free_rate = 0.01\n",
    "\n",
    "# Calculate the Sharpe ratio for each stock\n",
    "sharpe_ratios = ((mean_returns - risk_free_rate) / std_returns)\n",
    "\n",
    "# Find the stock with the highest Sharpe ratio\n",
    "highest_sharpe_ratio = sharpe_ratios.idxmax()\n",
    "\n",
    "# Calculate the abnormal returns for the stock with the highest Sharpe ratio\n",
    "abnormal_returns = returns[highest_sharpe_ratio] - (risk_free_rate / 12)\n",
    "\n",
    "# Find the month with the highest abnormal return\n",
    "highest_abnormal_return = abnormal_returns.idxmax()\n",
    "\n",
    "print(f\"The stock with the highest Sharpe ratio is {highest_sharpe_ratio}.\")\n",
    "print(f\"The month with the highest abnormal return for {highest_sharpe_ratio} is {highest_abnormal_return}.\")\n"
   ]
  },
  {
   "cell_type": "code",
   "execution_count": null,
   "id": "a9f8fd5a",
   "metadata": {},
   "outputs": [],
   "source": []
  }
 ],
 "metadata": {
  "kernelspec": {
   "display_name": "Python 3 (ipykernel)",
   "language": "python",
   "name": "python3"
  },
  "language_info": {
   "codemirror_mode": {
    "name": "ipython",
    "version": 3
   },
   "file_extension": ".py",
   "mimetype": "text/x-python",
   "name": "python",
   "nbconvert_exporter": "python",
   "pygments_lexer": "ipython3",
   "version": "3.9.16"
  }
 },
 "nbformat": 4,
 "nbformat_minor": 5
}
