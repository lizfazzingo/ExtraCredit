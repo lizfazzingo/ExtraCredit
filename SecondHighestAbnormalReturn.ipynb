{
 "cells": [
  {
   "cell_type": "code",
   "execution_count": 1,
   "id": "ab514612",
   "metadata": {},
   "outputs": [
    {
     "ename": "NameError",
     "evalue": "name 'df' is not defined",
     "output_type": "error",
     "traceback": [
      "\u001b[0;31m---------------------------------------------------------------------------\u001b[0m",
      "\u001b[0;31mNameError\u001b[0m                                 Traceback (most recent call last)",
      "Cell \u001b[0;32mIn[1], line 2\u001b[0m\n\u001b[1;32m      1\u001b[0m \u001b[38;5;66;03m# Calculate the abnormal returns\u001b[39;00m\n\u001b[0;32m----> 2\u001b[0m df[\u001b[38;5;124m'\u001b[39m\u001b[38;5;124mAbnormal Return\u001b[39m\u001b[38;5;124m'\u001b[39m] \u001b[38;5;241m=\u001b[39m \u001b[43mdf\u001b[49m[\u001b[38;5;124m'\u001b[39m\u001b[38;5;124mReturn\u001b[39m\u001b[38;5;124m'\u001b[39m] \u001b[38;5;241m-\u001b[39m df[\u001b[38;5;124m'\u001b[39m\u001b[38;5;124mMarket Return\u001b[39m\u001b[38;5;124m'\u001b[39m]\n\u001b[1;32m      4\u001b[0m \u001b[38;5;66;03m# Get the ticker with the highest abnormal return\u001b[39;00m\n\u001b[1;32m      5\u001b[0m highest_ticker \u001b[38;5;241m=\u001b[39m df\u001b[38;5;241m.\u001b[39mloc[df[\u001b[38;5;124m'\u001b[39m\u001b[38;5;124mAbnormal Return\u001b[39m\u001b[38;5;124m'\u001b[39m]\u001b[38;5;241m.\u001b[39midxmax(), \u001b[38;5;124m'\u001b[39m\u001b[38;5;124mTicker\u001b[39m\u001b[38;5;124m'\u001b[39m]\n",
      "\u001b[0;31mNameError\u001b[0m: name 'df' is not defined"
     ]
    }
   ],
   "source": [
    "# Calculate the abnormal returns\n",
    "df['Abnormal Return'] = df['Return'] - df['Market Return']\n",
    "\n",
    "# Get the ticker with the highest abnormal return\n",
    "highest_ticker = df.loc[df['Abnormal Return'].idxmax(), 'Ticker']\n",
    "\n",
    "# Get the second highest abnormal return\n",
    "second_highest_ticker = df.loc[df['Abnormal Return'].sort_values(ascending=False).index[1], 'Ticker']\n",
    "\n",
    "print(\"Ticker with the highest abnormal return:\", highest_ticker)\n",
    "print(\"Ticker with the second highest abnormal return:\", second_highest_ticker)\n"
   ]
  },
  {
   "cell_type": "code",
   "execution_count": 2,
   "id": "27a6de85",
   "metadata": {},
   "outputs": [
    {
     "ename": "ModuleNotFoundError",
     "evalue": "No module named 'scipy'",
     "output_type": "error",
     "traceback": [
      "\u001b[0;31m---------------------------------------------------------------------------\u001b[0m",
      "\u001b[0;31mModuleNotFoundError\u001b[0m                       Traceback (most recent call last)",
      "Cell \u001b[0;32mIn[2], line 3\u001b[0m\n\u001b[1;32m      1\u001b[0m \u001b[38;5;28;01mimport\u001b[39;00m \u001b[38;5;21;01mpandas\u001b[39;00m \u001b[38;5;28;01mas\u001b[39;00m \u001b[38;5;21;01mpd\u001b[39;00m\n\u001b[1;32m      2\u001b[0m \u001b[38;5;28;01mimport\u001b[39;00m \u001b[38;5;21;01mnumpy\u001b[39;00m \u001b[38;5;28;01mas\u001b[39;00m \u001b[38;5;21;01mnp\u001b[39;00m\n\u001b[0;32m----> 3\u001b[0m \u001b[38;5;28;01mfrom\u001b[39;00m \u001b[38;5;21;01mscipy\u001b[39;00m \u001b[38;5;28;01mimport\u001b[39;00m stats\n\u001b[1;32m      4\u001b[0m \u001b[38;5;28;01mimport\u001b[39;00m \u001b[38;5;21;01myfinance\u001b[39;00m \u001b[38;5;28;01mas\u001b[39;00m \u001b[38;5;21;01myf\u001b[39;00m\n\u001b[1;32m      6\u001b[0m \u001b[38;5;66;03m# Define the function to calculate the abnormal returns\u001b[39;00m\n",
      "\u001b[0;31mModuleNotFoundError\u001b[0m: No module named 'scipy'"
     ]
    }
   ],
   "source": [
    "import pandas as pd\n",
    "import numpy as np\n",
    "from scipy import stats\n",
    "import yfinance as yf\n",
    "\n",
    "# Define the function to calculate the abnormal returns\n",
    "def calculate_abnormal_return(ticker, benchmark_ticker, start_date, end_date):\n",
    "    # Download the stock price data\n",
    "    stock_data = yf.download(ticker, start=start_date, end=end_date, progress=False)\n",
    "    benchmark_data = yf.download(benchmark_ticker, start=start_date, end=end_date, progress=False)\n",
    "    \n",
    "    # Extract the adjusted close prices\n",
    "    stock_prices = stock_data['Adj Close']\n",
    "    benchmark_prices = benchmark_data['Adj Close']\n",
    "    \n",
    "    # Calculate the daily returns\n",
    "    stock_returns = stock_prices.pct_change()\n",
    "    benchmark_returns = benchmark_prices.pct_change()\n",
    "    \n",
    "    # Merge the returns into a single DataFrame\n",
    "    merged = pd.concat([stock_returns, benchmark_returns], axis=1)\n",
    "    merged.columns = [ticker, benchmark_ticker]\n",
    "    \n",
    "    # Calculate the regression coefficients\n",
    "    X = merged[benchmark_ticker]\n",
    "    X = sm.add_constant(X)\n",
    "    y = merged[ticker]\n",
    "    model = sm.OLS(y, X, missing='drop')\n",
    "    results = model.fit()\n",
    "    alpha, beta = results.params\n",
    "    \n",
    "    # Calculate the predicted returns\n",
    "    predicted_returns = alpha + beta * merged[benchmark_ticker]\n",
    "    \n",
    "    # Calculate the abnormal returns\n",
    "    abnormal_returns = merged[ticker] - predicted_returns\n",
    "    \n",
    "    return abnormal_returns\n",
    "\n",
    "\n",
    "# Define the function to get the abnormal returns for a list of tickers\n",
    "def get_abnormal_returns(tickers, benchmark_ticker, start_date, end_date):\n",
    "    abnormal_returns = pd.DataFrame()\n",
    "    for ticker in tickers:\n",
    "        try:\n",
    "            abnormal_returns[ticker] = calculate_abnormal_return(ticker, benchmark_ticker, start_date, end_date)\n",
    "        except Exception as e:\n",
    "            print(f\"{ticker}: {str(e)}\")\n",
    "    return abnormal_returns\n",
    "\n",
    "\n",
    "# Define the function to get the top n abnormal returns\n",
    "def get_top_n_abnormal_returns(abnormal_returns, n):\n",
    "    returns_flat = abnormal_returns.values.flatten()\n",
    "    returns_flat_sorted = np.sort(returns_flat)\n",
    "    top_n_flat = returns_flat_sorted[-n:]\n",
    "    top_n = np.reshape(top_n_flat, (-1, abnormal_returns.shape[1]))\n",
    "    top_n = pd.DataFrame(top_n, columns=abnormal_returns.columns)\n",
    "    return top_n\n",
    "\n",
    "\n",
    "# Define the parameters\n",
    "tickers = ['AAPL', 'AMZN', 'MSFT', 'TGT', 'WMT']\n",
    "benchmark_ticker = 'SPY'\n",
    "start_date = '2019-01-01'\n",
    "end_date = '2020-12-31'\n",
    "\n",
    "# Get the abnormal returns\n",
    "abnormal_returns = get_abnormal_returns(tickers, benchmark_ticker, start_date, end_date)\n",
    "\n",
    "# Get the second highest abnormal return\n",
    "top_2 = get_top_n_abnormal_returns(abnormal_returns, 2)\n",
    "second_highest = top_2.iloc[-2,:].name\n",
    "\n",
    "print(f\"The second highest abnormal return is for {second_highest}.\")\n"
   ]
  },
  {
   "cell_type": "code",
   "execution_count": null,
   "id": "9acfb14a",
   "metadata": {},
   "outputs": [],
   "source": []
  }
 ],
 "metadata": {
  "kernelspec": {
   "display_name": "Python 3 (ipykernel)",
   "language": "python",
   "name": "python3"
  },
  "language_info": {
   "codemirror_mode": {
    "name": "ipython",
    "version": 3
   },
   "file_extension": ".py",
   "mimetype": "text/x-python",
   "name": "python",
   "nbconvert_exporter": "python",
   "pygments_lexer": "ipython3",
   "version": "3.9.16"
  }
 },
 "nbformat": 4,
 "nbformat_minor": 5
}
