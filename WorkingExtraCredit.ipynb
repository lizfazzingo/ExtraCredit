{
 "cells": [
  {
   "cell_type": "code",
   "execution_count": 1,
   "id": "5bfb1a38",
   "metadata": {},
   "outputs": [
    {
     "name": "stdout",
     "output_type": "stream",
     "text": [
      "[*********************100%***********************]  1 of 1 completed\n",
      "[*********************100%***********************]  1 of 1 completed\n",
      "[*********************100%***********************]  1 of 1 completed\n",
      "[*********************100%***********************]  1 of 1 completed\n",
      "[*********************100%***********************]  1 of 1 completed\n",
      "                          AAPL       MSFT       AMZN        TGT        WMT   \n",
      "2018-04-27 00:00:00  38.685768  90.432480  78.630997  64.816956  79.810234  \\\n",
      "2018-04-30 00:00:00  39.386463  88.261810  78.306503  64.594505  80.879990   \n",
      "2018-05-01 00:00:00  40.301643  89.658600  79.112999  63.233227  79.919975   \n",
      "2018-05-02 00:00:00  42.081982  88.252365  78.484001  63.571327  78.941650   \n",
      "2018-05-03 00:00:00  42.158241  88.780884  78.603996  63.304401  78.841080   \n",
      "\n",
      "                    Total Assets  Market Cap  Beta Total Debt  PE Ratio  \n",
      "2018-04-27 00:00:00          NaN         NaN   NaN        NaN       NaN  \n",
      "2018-04-30 00:00:00          NaN         NaN   NaN        NaN       NaN  \n",
      "2018-05-01 00:00:00          NaN         NaN   NaN        NaN       NaN  \n",
      "2018-05-02 00:00:00          NaN         NaN   NaN        NaN       NaN  \n",
      "2018-05-03 00:00:00          NaN         NaN   NaN        NaN       NaN  \n"
     ]
    }
   ],
   "source": [
    "import pandas as pd\n",
    "import yfinance as yf\n",
    "\n",
    "# Define the list of tickers\n",
    "tickers_list = ['AAPL', 'MSFT', 'AMZN', 'TGT', 'WMT']\n",
    "\n",
    "# Download historical market data for each ticker\n",
    "data = pd.DataFrame(columns=tickers_list)\n",
    "for ticker in tickers_list:\n",
    "    ticker_data = yf.download(ticker, period='5y')\n",
    "    data[ticker] = ticker_data['Adj Close']\n",
    "\n",
    "# Calculate financial ratios\n",
    "financial_stats = {}\n",
    "for ticker in tickers_list:\n",
    "    ticker_data = yf.Ticker(ticker)\n",
    "\n",
    "    # Get the total assets\n",
    "    total_assets = ticker_data.info.get('TotalAssets')\n",
    "\n",
    "    # Get the market cap\n",
    "    market_cap = ticker_data.info.get('marketCap')\n",
    "\n",
    "    # Get the beta\n",
    "    beta = ticker_data.info.get('beta')\n",
    "\n",
    "    # Get the total debt\n",
    "    total_debt = ticker_data.info.get('TotalDebt')\n",
    "\n",
    "    # Get the P/E ratio\n",
    "    pe_ratio = ticker_data.info.get('trailingPE')\n",
    "\n",
    "    # Store the data in a dictionary\n",
    "    financial_stats[ticker] = {\n",
    "        'Total Assets': total_assets,\n",
    "        'Market Cap': market_cap,\n",
    "        'Beta': beta,\n",
    "        'Total Debt': total_debt,\n",
    "        'PE Ratio': pe_ratio\n",
    "    }\n",
    "\n",
    "# Convert the financial_stats dictionary to a DataFrame\n",
    "financial_stats_df = pd.DataFrame.from_dict(financial_stats, orient='index')\n",
    "\n",
    "# Merge the market data with the financial stats\n",
    "merged_data = pd.concat([data, financial_stats_df], axis=1)\n",
    "\n",
    "print(merged_data.head())\n"
   ]
  },
  {
   "cell_type": "code",
   "execution_count": null,
   "id": "cdbdb0c2",
   "metadata": {},
   "outputs": [],
   "source": []
  }
 ],
 "metadata": {
  "kernelspec": {
   "display_name": "Python 3 (ipykernel)",
   "language": "python",
   "name": "python3"
  },
  "language_info": {
   "codemirror_mode": {
    "name": "ipython",
    "version": 3
   },
   "file_extension": ".py",
   "mimetype": "text/x-python",
   "name": "python",
   "nbconvert_exporter": "python",
   "pygments_lexer": "ipython3",
   "version": "3.9.16"
  }
 },
 "nbformat": 4,
 "nbformat_minor": 5
}
